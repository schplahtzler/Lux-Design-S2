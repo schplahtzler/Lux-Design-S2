{
 "cells": [
  {
   "cell_type": "code",
   "execution_count": 21,
   "metadata": {},
   "outputs": [],
   "source": [
    "from luxai_s2.env import LuxAI_S2\n",
    "from lux.kit import obs_to_game_state, GameState, EnvConfig\n",
    "from lux.utils import direction_to, my_turn_to_place_factory\n",
    "import numpy as np\n",
    "import matplotlib.pyplot as plt"
   ]
  },
  {
   "cell_type": "code",
   "execution_count": 22,
   "metadata": {},
   "outputs": [],
   "source": [
    "def interact(env, agents, steps):\n",
    "    # reset our env\n",
    "    obs = env.reset(seed=41)\n",
    "    step = 0\n",
    "    # Note that as the environment has two phases, we also keep track a value called \n",
    "    # `real_env_steps` in the environment state. The first phase ends once `real_env_steps` is 0 and used below\n",
    "\n",
    "    # iterate until phase 1 ends\n",
    "    while env.state.real_env_steps < 0:\n",
    "        if step >= steps: break\n",
    "        actions = {}\n",
    "        for player in env.agents:\n",
    "            o = obs[player]\n",
    "            a = agents[player].early_setup(step, o)\n",
    "            actions[player] = a\n",
    "        step += 1\n",
    "        obs, rewards, dones, infos = env.step(actions)\n",
    "    done = False\n",
    "    while not done:\n",
    "        if step >= steps: break\n",
    "        actions = {}\n",
    "        for player in env.agents:\n",
    "            o = obs[player]\n",
    "            a = agents[player].act(step, o)\n",
    "            actions[player] = a\n",
    "        step += 1\n",
    "        obs, rewards, dones, infos = env.step(actions)\n",
    "        done = dones[\"player_0\"] and dones[\"player_1\"]\n",
    "    return"
   ]
  },
  {
   "cell_type": "code",
   "execution_count": 45,
   "metadata": {},
   "outputs": [
    {
     "name": "stdout",
     "output_type": "stream",
     "text": [
      "The autoreload extension is already loaded. To reload it, use:\n",
      "  %reload_ext autoreload\n"
     ]
    }
   ],
   "source": [
    "%load_ext autoreload\n",
    "%autoreload 2\n",
    "env = LuxAI_S2() # create the environment object\n",
    "obs = env.reset(seed=45) # resets an environment with a seed\n",
    "from agent import Agent\n",
    "agents = {player: Agent(player, env.state.env_cfg) for player in env.agents}"
   ]
  },
  {
   "cell_type": "code",
   "execution_count": 41,
   "metadata": {},
   "outputs": [],
   "source": [
    "#interact(env, agents, 1)"
   ]
  },
  {
   "cell_type": "code",
   "execution_count": 46,
   "metadata": {},
   "outputs": [
    {
     "data": {
      "text/plain": [
       "<matplotlib.image.AxesImage at 0x191f251c190>"
      ]
     },
     "execution_count": 46,
     "metadata": {},
     "output_type": "execute_result"
    },
    {
     "data": {
      "image/png": "[encoded data removed]",
      "text/plain": [
       "<Figure size 640x480 with 1 Axes>"
      ]
     },
     "metadata": {},
     "output_type": "display_data"
    }
   ],
   "source": [
    "img = env.render(\"rgb_array\", width=640, height=640)\n",
    "plt.imshow(img)"
   ]
  },
  {
   "cell_type": "code",
   "execution_count": 47,
   "metadata": {},
   "outputs": [],
   "source": [
    "game_state = obs_to_game_state(15, env.state.env_cfg, env.state.get_obs())"
   ]
  },
  {
   "cell_type": "code",
   "execution_count": 20,
   "metadata": {},
   "outputs": [],
   "source": [
    "closest_ice_tile=np.array([35,40])\n",
    "closest_factory_tile=np.array([35,42])"
   ]
  },
  {
   "cell_type": "code",
   "execution_count": 24,
   "metadata": {},
   "outputs": [],
   "source": [
    " for dx,dy in [[-1,0],[0,1],[1,0],[0,-1]]:\n",
    "    spot = closest_ice_tile+np.array([dx,dy]) # sum the matricies together to form new spot\n",
    "    distance_to_fac = np.mean((closest_factory_tile - closest_ice_tile) ** 2)\n",
    "    if(distance_to_fac<2): # spot is inside the factory borders\n",
    "      transfer_spot = spot\n",
    "      break "
   ]
  },
  {
   "cell_type": "code",
   "execution_count": 127,
   "metadata": {},
   "outputs": [],
   "source": [
    "zero_rubble_tiles_found=[]\n",
    "\n",
    "\n",
    "\n",
    "\n",
    "def find_0_rubble(x, y, rubble_board, already_explored, journey_count, limit):\n",
    "    if journey_count == limit:\n",
    "        return\n",
    "    for i in [-1,0,1]:\n",
    "        for j in [-1,0,1]:\n",
    "            new_x = x + i \n",
    "            new_y = y + j\n",
    "            if((new_x)<0 or (new_x)>=48 or (new_y)<0 or (new_y)>=48):\n",
    "                continue \n",
    "            if [new_x, new_y] in already_explored or rubble_board[new_x, new_y]!=0 or (new_x==0 and new_y==0) or (new_x==1 and new_y==1) or (new_x==-1 and new_y==-1) or (new_x==1 and new_y==-1) or (new_x==-1 and new_y==1):\n",
    "                continue \n",
    "            else:\n",
    "                zero_rubble_tiles_found.append((new_x,new_y))\n",
    "                already_explored.append((new_x,new_y))\n",
    "                find_0_rubble(new_x, new_y, rubble_board, already_explored, journey_count+1, limit)\n"
   ]
  },
  {
   "cell_type": "code",
   "execution_count": 18,
   "metadata": {},
   "outputs": [],
   "source": [
    "def find_zero_rubble_tiles(x, y, rubble_board, explored_tiles=None, zero_rubble_tiles=None): #ChatGPT\n",
    "    if explored_tiles is None:\n",
    "        explored_tiles = {}\n",
    "    if zero_rubble_tiles is None:\n",
    "        zero_rubble_tiles = {}\n",
    "    if x < 0 or x >= 48 or y < 0 or y >= 48 or (x, y) in explored_tiles:\n",
    "        return zero_rubble_tiles\n",
    "    if rubble_board[x][y] != 0:\n",
    "        return zero_rubble_tiles\n",
    "    explored_tiles[(x, y)] = True\n",
    "    zero_rubble_tiles[(x, y)] = True\n",
    "    for dx, dy in [[-1, 0], [0, 1], [1, 0], [0, -1]]:\n",
    "        find_zero_rubble_tiles(x+dx, y+dy, rubble_board, explored_tiles, zero_rubble_tiles)\n",
    "    return zero_rubble_tiles"
   ]
  },
  {
   "cell_type": "code",
   "execution_count": 66,
   "metadata": {},
   "outputs": [],
   "source": [
    "def find_zero_rubble_tiles(x, y, rubble_board, orig_x=None, orig_y=None, explored_tiles=None, zero_rubble_tiles=None, factory_tiles=None): #ChatGPT\n",
    "    print('1')\n",
    "    if orig_x is None:\n",
    "        orig_x = x \n",
    "    if orig_y is None:\n",
    "        orig_y = y\n",
    "    if explored_tiles is None:\n",
    "        explored_tiles = {}\n",
    "    if zero_rubble_tiles is None:\n",
    "        zero_rubble_tiles = {}\n",
    "    if factory_tiles is None:\n",
    "        factory_tiles = {}\n",
    "        for dx in [-1,0,1]:\n",
    "            for dy in [-1,0,1]:\n",
    "                factory_tiles[(x + dx, y + dy)] = True\n",
    "\n",
    "    if x < 0 or x >= 48 or y < 0 or y >= 48 or (x, y) in explored_tiles:\n",
    "        return zero_rubble_tiles\n",
    "    if (rubble_board[x][y] != 0) and ((x,y) not in factory_tiles):\n",
    "        print(factory_tiles)\n",
    "        print('ran')\n",
    "        return zero_rubble_tiles\n",
    "    explored_tiles[(x, y)] = True\n",
    "    if (x,y) not in factory_tiles:\n",
    "        zero_rubble_tiles[(x, y)] = True\n",
    "    for dx, dy in [[-1, 0], [0, 1], [1, 0], [0, -1]]:\n",
    "        find_zero_rubble_tiles(x+dx, y+dy, rubble_board, orig_x, orig_y, explored_tiles, zero_rubble_tiles, factory_tiles)\n",
    "    return zero_rubble_tiles"
   ]
  },
  {
   "cell_type": "code",
   "execution_count": 67,
   "metadata": {},
   "outputs": [
    {
     "name": "stdout",
     "output_type": "stream",
     "text": [
      "1\n",
      "{(19, 65): True, (19, 66): True, (19, 67): True, (20, 65): True, (20, 66): True, (20, 67): True, (21, 65): True, (21, 66): True, (21, 67): True}\n",
      "ran\n"
     ]
    },
    {
     "data": {
      "text/plain": [
       "{}"
      ]
     },
     "execution_count": 67,
     "metadata": {},
     "output_type": "execute_result"
    }
   ],
   "source": [
    "find_zero_rubble_tiles(10,33,game_state.board.rubble)"
   ]
  },
  {
   "cell_type": "code",
   "execution_count": null,
   "metadata": {},
   "outputs": [],
   "source": []
  },
  {
   "cell_type": "code",
   "execution_count": null,
   "metadata": {},
   "outputs": [],
   "source": []
  },
  {
   "cell_type": "code",
   "execution_count": null,
   "metadata": {},
   "outputs": [],
   "source": []
  },
  {
   "cell_type": "code",
   "execution_count": 35,
   "metadata": {},
   "outputs": [],
   "source": [
    "zero_rubble_tiles_found = find_zero_rubble_tiles(17, 15, game_state.board.rubble)"
   ]
  },
  {
   "cell_type": "code",
   "execution_count": 36,
   "metadata": {},
   "outputs": [
    {
     "data": {
      "text/plain": [
       "{(17, 15): True,\n",
       " (16, 15): True,\n",
       " (15, 15): True,\n",
       " (14, 15): True,\n",
       " (13, 15): True,\n",
       " (13, 16): True,\n",
       " (14, 16): True,\n",
       " (15, 16): True,\n",
       " (16, 16): True,\n",
       " (17, 16): True,\n",
       " (18, 16): True,\n",
       " (19, 16): True,\n",
       " (20, 16): True,\n",
       " (20, 17): True,\n",
       " (20, 15): True,\n",
       " (19, 15): True,\n",
       " (18, 15): True,\n",
       " (19, 14): True,\n",
       " (20, 14): True,\n",
       " (20, 13): True,\n",
       " (19, 13): True,\n",
       " (19, 12): True,\n",
       " (20, 12): True}"
      ]
     },
     "execution_count": 36,
     "metadata": {},
     "output_type": "execute_result"
    }
   ],
   "source": [
    "zero_rubble_tiles_found"
   ]
  },
  {
   "cell_type": "code",
   "execution_count": 49,
   "metadata": {},
   "outputs": [
    {
     "data": {
      "text/plain": [
       "{(13, 15),\n",
       " (13, 16),\n",
       " (14, 15),\n",
       " (14, 16),\n",
       " (15, 15),\n",
       " (15, 16),\n",
       " (16, 15),\n",
       " (16, 16),\n",
       " (17, 15),\n",
       " (17, 16),\n",
       " (18, 15),\n",
       " (18, 16),\n",
       " (19, 12),\n",
       " (19, 13),\n",
       " (19, 14),\n",
       " (19, 15),\n",
       " (19, 16),\n",
       " (20, 12),\n",
       " (20, 13),\n",
       " (20, 14),\n",
       " (20, 15),\n",
       " (20, 16),\n",
       " (20, 17)}"
      ]
     },
     "execution_count": 49,
     "metadata": {},
     "output_type": "execute_result"
    }
   ],
   "source": [
    "zero_rubble_tiles_found=set()\n",
    "def find_zero_rubble_tiles(x, y, rubble_board, explored_tiles = set(), depth=0, limit=4):\n",
    "    if depth==limit or x<0 or x>=48 or y<0 or y>=48 or (x,y,) in explored_tiles:\n",
    "        return\n",
    "    if(rubble_board[x,y]!=0):\n",
    "        return\n",
    "    explored_tiles.add((x,y,))\n",
    "    zero_rubble_tiles_found.add((x,y,))\n",
    "    for dx, dy in [[-1,0],[0,1],[1,0],[0,-1]]:\n",
    "        find_zero_rubble_tiles(x+dx, y+dy, rubble_board, explored_tiles, depth+1, limit)\n",
    "find_zero_rubble_tiles(17, 15, game_state.board.rubble)\n",
    "print(zero_rubble_tiles_found)\n",
    "\n",
    "\n"
   ]
  },
  {
   "cell_type": "code",
   "execution_count": 9,
   "metadata": {},
   "outputs": [],
   "source": [
    "def nothing():\n",
    "    pass"
   ]
  },
  {
   "cell_type": "code",
   "execution_count": 10,
   "metadata": {},
   "outputs": [
    {
     "data": {
      "text/plain": [
       "{None}"
      ]
     },
     "execution_count": 10,
     "metadata": {},
     "output_type": "execute_result"
    }
   ],
   "source": [
    "x=set()\n",
    "x.add(nothing())\n",
    "x"
   ]
  },
  {
   "cell_type": "code",
   "execution_count": 129,
   "metadata": {},
   "outputs": [
    {
     "data": {
      "text/plain": [
       "81"
      ]
     },
     "execution_count": 129,
     "metadata": {},
     "output_type": "execute_result"
    }
   ],
   "source": [
    "zero_rubble_tiles_found=[]\n",
    "find_0_rubble(best_tiles[1][0],best_tiles[1][1],rubble_board,already_explored=[],journey_count=0,limit=4)\n",
    "len(set(zero_rubble_tiles_found))"
   ]
  },
  {
   "cell_type": "code",
   "execution_count": 120,
   "metadata": {},
   "outputs": [
    {
     "name": "stdout",
     "output_type": "stream",
     "text": [
      "-1\n",
      "0\n",
      "0\n",
      "1\n",
      "1\n",
      "0\n",
      "0\n",
      "-1\n"
     ]
    }
   ],
   "source": [
    "for dx,dy in [[-1,0],[0,1],[1,0],[0,-1]]:\n",
    "    print(dx)\n",
    "    print(dy)"
   ]
  },
  {
   "cell_type": "code",
   "execution_count": 64,
   "metadata": {},
   "outputs": [],
   "source": [
    "rubble_board = game_state.board.rubble == 0"
   ]
  },
  {
   "cell_type": "code",
   "execution_count": 98,
   "metadata": {},
   "outputs": [],
   "source": [
    "find_0_rubble(20, 15, rubble_board, already_explored=[], journey_count=0, limit=4)\n"
   ]
  },
  {
   "cell_type": "code",
   "execution_count": 131,
   "metadata": {},
   "outputs": [],
   "source": [
    "best_tiles = []\n",
    "most_0_rubble_spots = 0\n",
    "for fac_tile in best_factory_tiles:\n",
    "    zero_rubble_tiles_found=[]\n",
    "    zero_rubble_spots = find_0_rubble(fac_tile[0],fac_tile[1],rubble_board,already_explored=[],journey_count=0,limit=3)\n",
    "    zero_rubble_spots=len(set(zero_rubble_tiles_found))\n",
    "    if(zero_rubble_spots > most_0_rubble_spots):\n",
    "        best_tiles=[fac_tile]\n",
    "        most_0_rubble_spots=zero_rubble_spots\n",
    "    elif(zero_rubble_spots==most_0_rubble_spots):\n",
    "        best_tiles.append(fac_tile)\n"
   ]
  },
  {
   "cell_type": "code",
   "execution_count": 117,
   "metadata": {},
   "outputs": [
    {
     "data": {
      "text/plain": [
       "[(4, 21), (16, 4), (16, 5), (43, 14), (43, 31)]"
      ]
     },
     "execution_count": 117,
     "metadata": {},
     "output_type": "execute_result"
    }
   ],
   "source": [
    "best_tiles"
   ]
  },
  {
   "cell_type": "code",
   "execution_count": 109,
   "metadata": {},
   "outputs": [],
   "source": [
    "potential_factory_tiles = list(zip(*np.where(obs['player_0'][\"board\"][\"valid_spawns_mask\"] == 1)))\n",
    "smallest_distance = np.inf\n",
    "best_factory_tiles = []\n",
    "ice_tiles = np.argwhere(game_state.board.ice==1)\n",
    "for potential_factory_tile in potential_factory_tiles:\n",
    "    ice_tile_distances = np.mean((ice_tiles - potential_factory_tile)**2,1)\n",
    "    closest_ice_distance = np.min(ice_tile_distances)\n",
    "    #closest_ore_tile = np.argmin(ore_tile_distances) don't actually use these\n",
    "    #closest_ore_tile_pos = ore_tiles[closest_ore_tile]\n",
    "    if(closest_ice_distance < smallest_distance):\n",
    "        smallest_distance = closest_ice_distance\n",
    "        best_factory_tiles = [potential_factory_tile]\n",
    "    elif(closest_ice_distance == smallest_distance):\n",
    "        best_factory_tiles.append(potential_factory_tile)"
   ]
  },
  {
   "cell_type": "code",
   "execution_count": 5,
   "metadata": {},
   "outputs": [
    {
     "data": {
      "text/plain": [
       "5"
      ]
     },
     "execution_count": 5,
     "metadata": {},
     "output_type": "execute_result"
    }
   ],
   "source": [
    "np.argmin([4,4,4,5,3,2.9,2.9])"
   ]
  },
  {
   "cell_type": "code",
   "execution_count": 2,
   "metadata": {},
   "outputs": [],
   "source": [
    "import numpy as np"
   ]
  },
  {
   "cell_type": "code",
   "execution_count": 79,
   "metadata": {},
   "outputs": [],
   "source": [
    "def find_adjacent_tiles(gameboard, x, y, characteristic, visited=set()):\n",
    "    # Base case: if the current tile has already been visited or doesn't have the characteristic,\n",
    "    # return an empty set\n",
    "    if (x, y) in visited or gameboard[y][x] != characteristic:\n",
    "        return set()\n",
    "    \n",
    "    # Add the current tile to the visited set\n",
    "    visited.add((x, y))\n",
    "    \n",
    "    # Recursively find all adjacent tiles with the same characteristic\n",
    "    adjacent_tiles = set()\n",
    "    if x > 0:\n",
    "        adjacent_tiles |= find_adjacent_tiles(gameboard, x-1, y, characteristic, visited)\n",
    "    if y > 0:\n",
    "        adjacent_tiles |= find_adjacent_tiles(gameboard, x, y-1, characteristic, visited)\n",
    "    if x < len(gameboard[0]) - 1:\n",
    "        adjacent_tiles |= find_adjacent_tiles(gameboard, x+1, y, characteristic, visited)\n",
    "    if y < len(gameboard) - 1:\n",
    "        adjacent_tiles |= find_adjacent_tiles(gameboard, x, y+1, characteristic, visited)\n",
    "    \n",
    "    # Add the current tile to the set of adjacent tiles and return it\n",
    "    adjacent_tiles.add((x, y))\n",
    "    return adjacent_tiles"
   ]
  },
  {
   "cell_type": "code",
   "execution_count": 80,
   "metadata": {},
   "outputs": [
    {
     "name": "stdout",
     "output_type": "stream",
     "text": [
      "{(2, 1), (1, 1), (2, 0), (2, 2), (3, 2)}\n"
     ]
    }
   ],
   "source": [
    "gameboard = [\n",
    "    ['A', 'B', 'A', 'C'],\n",
    "    ['B', 'A', 'A', 'B'],\n",
    "    ['C', 'C', 'A', 'A'],\n",
    "]\n",
    "\n",
    "tiles = find_adjacent_tiles(gameboard, 1, 1, 'A')\n",
    "print(tiles)"
   ]
  },
  {
   "cell_type": "code",
   "execution_count": null,
   "metadata": {},
   "outputs": [],
   "source": []
  }
 ],
 "metadata": {
  "kernelspec": {
   "display_name": "base",
   "language": "python",
   "name": "python3"
  },
  "language_info": {
   "codemirror_mode": {
    "name": "ipython",
    "version": 3
   },
   "file_extension": ".py",
   "mimetype": "text/x-python",
   "name": "python",
   "nbconvert_exporter": "python",
   "pygments_lexer": "ipython3",
   "version": "3.8.5"
  },
  "orig_nbformat": 4,
  "vscode": {
   "interpreter": {
    "hash": "6068d853abb621207ac890b2f8a4623b3bde5151edcac26752bb558987d8c19e"
   }
  }
 },
 "nbformat": 4,
 "nbformat_minor": 2
}
